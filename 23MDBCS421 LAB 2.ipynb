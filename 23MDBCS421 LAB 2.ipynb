{
 "cells": [
  {
   "cell_type": "markdown",
   "id": "54347224",
   "metadata": {},
   "source": [
    "### Ibad Ur Rahman\n",
    "### 23MDBCS421\n",
    "### Data Science\n",
    "### Semester 5th\n",
    "### Lab Task 2\n",
    "### Dr.Tariq Sadad"
   ]
  },
  {
   "cell_type": "markdown",
   "id": "f3d09d00",
   "metadata": {},
   "source": [
    "## Exercise 1\n",
    "\n",
    "Write a function that samples a uniform random number from `a` to `b`.\n",
    "\n",
    "Use function `random.random` from package `random`. Documentation is available [here](https://docs.python.org/3.7/library/random.html)"
   ]
  },
  {
   "cell_type": "code",
   "execution_count": 4,
   "id": "f160b071",
   "metadata": {},
   "outputs": [
    {
     "name": "stdout",
     "output_type": "stream",
     "text": [
      "8.104849364014543\n",
      "0.03456043869874437\n"
     ]
    }
   ],
   "source": [
    "import random\n",
    "\n",
    "def uniform_sample(a: float, b: float) -> float:\n",
    "    \n",
    "    return a + (b - a) * random.random()\n",
    "\n",
    "print(uniform_sample(5, 10))  \n",
    "print(uniform_sample(-2, 2))  \n",
    "\n"
   ]
  },
  {
   "cell_type": "markdown",
   "id": "fd088691",
   "metadata": {},
   "source": [
    "## Exercise 2\n",
    "\n",
    "Write a function that creates a list of length `n` of samples like in Excercise 1."
   ]
  },
  {
   "cell_type": "code",
   "execution_count": 6,
   "id": "5244a292",
   "metadata": {},
   "outputs": [
    {
     "name": "stdout",
     "output_type": "stream",
     "text": [
      "[0.6951797034074094, 0.34155253313880163, 0.7945191681511812, 0.24004782596493568, 0.32269311688613334]\n"
     ]
    }
   ],
   "source": [
    "import random\n",
    "\n",
    "def uniform_sample(a: float, b: float) -> float:\n",
    "\n",
    "    return a + (b - a) * random.random()\n",
    "\n",
    "def uniform_sample_list(a: float, b: float, n: int) -> list:\n",
    "    \n",
    "    return [uniform_sample(a, b) for _ in range(n)]\n",
    "\n",
    "print(uniform_sample_list(0, 1, 5))  \n",
    "\n"
   ]
  },
  {
   "cell_type": "markdown",
   "id": "4a692092",
   "metadata": {},
   "source": [
    "## Exercise 3\n",
    "\n",
    "Write a function that computes an average of a list of numbers."
   ]
  },
  {
   "cell_type": "code",
   "execution_count": 9,
   "id": "7c65cc92",
   "metadata": {},
   "outputs": [
    {
     "name": "stdout",
     "output_type": "stream",
     "text": [
      "3.0\n",
      "15.0\n"
     ]
    }
   ],
   "source": [
    "def average(numbers: list) -> float:\n",
    "   \n",
    "    if not numbers:  # avoid division by zero\n",
    "        raise ValueError(\"Cannot compute average of an empty list.\")\n",
    "    return sum(numbers) / len(numbers)\n",
    "\n",
    "print(average([1, 2, 3, 4, 5]))  \n",
    "print(average([10, 20]))         \n"
   ]
  },
  {
   "cell_type": "markdown",
   "id": "601510a7",
   "metadata": {},
   "source": [
    "## Exercise 4\n",
    "\n",
    "Write a function that creates `m` lists like in Exercise 2 and computes average of each list"
   ]
  },
  {
   "cell_type": "code",
   "execution_count": 10,
   "id": "bc58711d",
   "metadata": {},
   "outputs": [
    {
     "name": "stdout",
     "output_type": "stream",
     "text": [
      "[0.205800549271627, 0.5613427603547192, 0.6410367318933744]\n"
     ]
    }
   ],
   "source": [
    "import random\n",
    "\n",
    "def uniform_sample(a: float, b: float) -> float:\n",
    "    \n",
    "    return a + (b - a) * random.random()\n",
    "\n",
    "def uniform_sample_list(a: float, b: float, n: int) -> list:\n",
    "    \n",
    "    return [uniform_sample(a, b) for _ in range(n)]\n",
    "\n",
    "def average(numbers: list) -> float:\n",
    " \n",
    "    if not numbers:\n",
    "        raise ValueError(\"Cannot compute average of an empty list.\")\n",
    "    return sum(numbers) / len(numbers)\n",
    "\n",
    "def average_of_samples(a: float, b: float, n: int, m: int) -> list:\n",
    "    \n",
    "    return [average(uniform_sample_list(a, b, n)) for _ in range(m)]\n",
    "\n",
    "print(average_of_samples(0, 1, n=5, m=3))\n",
    "\n",
    "\n"
   ]
  },
  {
   "cell_type": "markdown",
   "id": "14712e60",
   "metadata": {},
   "source": [
    "Create a list of averages of numbers between 1.0 and 2.0. Make each list of size 10. Vary number of averages from 100 to 10000. Adjust number of bins in the histogram for the best visualization.\n",
    "\n",
    "Use `matplotlib` library as follows:\n",
    "```python\n",
    "from matplotlib import pyplot as plt\n",
    "\n",
    "plt.figure()\n",
    "plt.hist(array, bins=50)\n",
    "plt.show()\n",
    "```"
   ]
  },
  {
   "cell_type": "code",
   "execution_count": 12,
   "id": "15aa3138",
   "metadata": {},
   "outputs": [
    {
     "data": {
      "image/png": "[encoded data removed]",
      "text/plain": [
       "<Figure size 640x480 with 1 Axes>"
      ]
     },
     "metadata": {},
     "output_type": "display_data"
    }
   ],
   "source": [
    "import random\n",
    "from matplotlib import pyplot as plt\n",
    "\n",
    "def uniform_sample(a: float, b: float) -> float:\n",
    "    return a + (b - a) * random.random()\n",
    "\n",
    "def uniform_sample_list(a: float, b: float, n: int) -> list:\n",
    "    return [uniform_sample(a, b) for _ in range(n)]\n",
    "\n",
    "def average(numbers: list) -> float:\n",
    "    if not numbers:\n",
    "        raise ValueError(\"Cannot compute average of an empty list.\")\n",
    "    return sum(numbers) / len(numbers)\n",
    "\n",
    "def average_of_samples(a: float, b: float, n: int, m: int) -> list:\n",
    "    return [average(uniform_sample_list(a, b, n)) for _ in range(m)]\n",
    "\n",
    "\n",
    "a, b = 1.0, 2.0\n",
    "n = 10           \n",
    "m = 10000        \n",
    "\n",
    "averages = average_of_samples(a, b, n, m)\n",
    "\n",
    "# Plot histogram\n",
    "plt.figure()\n",
    "plt.hist(averages, bins=50)   # adjust bins for visualization\n",
    "plt.xlabel(\"Average Value\")\n",
    "plt.ylabel(\"Frequency\")\n",
    "plt.title(f\"Histogram of {m} averages of {n} samples each (range [{a}, {b}])\")\n",
    "plt.show()\n"
   ]
  },
  {
   "cell_type": "code",
   "execution_count": null,
   "id": "b3f13636",
   "metadata": {},
   "outputs": [],
   "source": []
  }
 ],
 "metadata": {
  "kernelspec": {
   "display_name": "base",
   "language": "python",
   "name": "python3"
  },
  "language_info": {
   "codemirror_mode": {
    "name": "ipython",
    "version": 3
   },
   "file_extension": ".py",
   "mimetype": "text/x-python",
   "name": "python",
   "nbconvert_exporter": "python",
   "pygments_lexer": "ipython3",
   "version": "3.12.7"
  }
 },
 "nbformat": 4,
 "nbformat_minor": 5
}
